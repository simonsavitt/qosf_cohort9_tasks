{
 "cells": [
  {
   "cell_type": "markdown",
   "id": "fa98ee1a-0551-4855-a35b-7a609bcfe7a9",
   "metadata": {},
   "source": [
    "# Task 2 Odd to Even\n",
    "\n",
    "Design a quantum algorithm that when given numbers of range `[1,n)` and are odd convert them into even numbers, and they must stay in the same range so they cannot be less than 1 nor greater than n. `n = 2^k` where k is the number of qubits you are going to use.\n",
    "\n",
    "Example:\n",
    "\n",
    "`B = odd_to_even (n = 31,list= [1,2,2,4,5,6,7,11,17,21,22,23] )`\n",
    "\n",
    "`print(B)`\n",
    "\n",
    "One possible output is\n",
    " \n",
    "`“[2,2,2,4,4,6,8,10,18,20,22,22]”`\n",
    "\n",
    "Exist multiple solutions\n",
    "\n",
    "References:\n",
    "\n",
    "[1] Deutsch, David, and Richard Jozsa. \"Rapid solution of problems by quantum computation.\" Proceedings of the Royal Society of London. Series A: Mathematical and Physical Sciences 439.1907 (1992): 553-558.\n",
    "\n",
    "[2] Bernstein, Ethan, and Umesh Vazirani. \"Quantum complexity theory.\" SIAM Journal on computing 26.5 (1997): 1411-1473.\n",
    "\n",
    "[3] Grover, Lov K. , \"A fast quantum mechanical algorithm for database search\", Proceedings of the 28th Annual ACM Symposium on the Theory of Computing (1996), arXiv:quant-ph/9605043\n"
   ]
  },
  {
   "cell_type": "markdown",
   "id": "f8dd3309-3ec8-45f8-9de2-4221201ecec3",
   "metadata": {},
   "source": [
    "#### Installing Modules"
   ]
  },
  {
   "cell_type": "code",
   "execution_count": null,
   "id": "9e04658e-b0f3-424f-b8d9-3d8526971f7a",
   "metadata": {
    "scrolled": true
   },
   "outputs": [],
   "source": [
    "%%bash\n",
    "pip install qiskit\n",
    "pip install qiskit_ibm_runtime\n",
    "pip install qiskit[visualization]"
   ]
  },
  {
   "cell_type": "markdown",
   "id": "b175e502-c587-4181-8136-4bb936d75c09",
   "metadata": {},
   "source": [
    "#### Importing Functions"
   ]
  },
  {
   "cell_type": "code",
   "execution_count": 110,
   "id": "66939d4c-3754-425f-b94d-f24a8cdfbb67",
   "metadata": {},
   "outputs": [],
   "source": [
    "import math\n",
    "from qiskit.circuit.library import GroverOperator, MCMT, ZGate\n",
    "from qiskit import transpile, QuantumRegister, ClassicalRegister, QuantumCircuit\n",
    "from qiskit.providers.basic_provider import BasicProvider"
   ]
  },
  {
   "cell_type": "markdown",
   "id": "e30e95eb-9ed8-4cc9-97bd-508bf80ff037",
   "metadata": {},
   "source": [
    "#### Choosing Backend Provider"
   ]
  },
  {
   "cell_type": "code",
   "execution_count": 111,
   "id": "519a6ff6-0b87-4804-bb57-ed04bbe9a7ab",
   "metadata": {},
   "outputs": [],
   "source": [
    "backend = BasicProvider().get_backend('basic_simulator')"
   ]
  },
  {
   "cell_type": "markdown",
   "id": "0ae60dc7-b056-42ca-abf1-5d3e933b150a",
   "metadata": {},
   "source": [
    "#### Grover's Algorithm Oracle"
   ]
  },
  {
   "cell_type": "code",
   "execution_count": 112,
   "id": "43e844b5-939f-4d81-b84d-5aa38278d888",
   "metadata": {},
   "outputs": [],
   "source": [
    "# In Grover's Algorithm the \"oracle\" marks the states corresponding to even numbers\n",
    "# The 0th qubit is always in state |0> because the bit-string of even numbers always ends with 0\n",
    "\n",
    "def groveroracle(markedstates, num_qubits):\n",
    "    \"\"\"Build Grover's Algorithm oracle for multiple marked states\n",
    "\n",
    "    Parameters:\n",
    "        markedstates (list): Marked states of oracle\n",
    "        num_qubits (int): Number of qubits\n",
    "\n",
    "    Returns:\n",
    "        QuantumCircuit: Quantum circuit representing Grover's Algorithm oracle\n",
    "    \"\"\"\n",
    "    qc = QuantumCircuit(num_qubits)\n",
    "\n",
    "    # keep array of marked even numbers to avoid marking twice\n",
    "    markedevennums = []\n",
    "\n",
    "    # Mark each target state in the input list\n",
    "    for target in markedstates:\n",
    "        # Flip target bit-string to match Qiskit bit-ordering\n",
    "        flippedtarget = target[::-1]\n",
    "        if flippedtarget[1:] not in markedevennums:\n",
    "            # Find indices of all the '0' elements in bit-string\n",
    "            zeroindices = [0] # 0th qubit is always 0 for even numbers\n",
    "            zeroindices.extend([ind for ind in range(1, num_qubits) if flippedtarget.startswith(\"0\", ind)])\n",
    "            # Add a multi-controlled Z-gate with pre- and post-applied X-gates (open-controls)\n",
    "            # where the target bit-string has a '0' entry\n",
    "            qc.x(zeroindices)\n",
    "            qc.compose(MCMT(ZGate(), num_qubits - 1, 1), inplace=True)\n",
    "            qc.x(zeroindices)\n",
    "            markedevennums.append(flippedtarget[1:])\n",
    "    return qc\n",
    "     "
   ]
  },
  {
   "cell_type": "markdown",
   "id": "7a31b1db-9b56-4f19-ba5d-02165dc8a401",
   "metadata": {},
   "source": [
    "#### Odd to Even"
   ]
  },
  {
   "cell_type": "code",
   "execution_count": 113,
   "id": "5a193d18-02c8-42ae-af1e-15907656af08",
   "metadata": {},
   "outputs": [],
   "source": [
    "def oddtoeven(n, convertedlist):\n",
    "    \"\"\"\n",
    "    Build a function that uses quantum circuit to convert\n",
    "    all odd numbers to even numbers\n",
    "\n",
    "    Parameters:\n",
    "        n (int): The maximum number\n",
    "        convertedlist (list): List of numbers\n",
    "\n",
    "    Returns:\n",
    "        list: A list where all numbers are even\n",
    "    \"\"\"\n",
    "    # Calculate the number of required qubits\n",
    "    k = math.ceil(math.log2(n))\n",
    "\n",
    "    # Convert the list of numbers from decimal to binary\n",
    "    markedstates = [bin(num)[2:].zfill(k) for num in convertedlist]\n",
    "\n",
    "    # Prepare an oracle for the marked states\n",
    "    oracle = groveroracle(markedstates, k)\n",
    "\n",
    "    # Count the number of multi-control z gate in the oracle\n",
    "    # This represents the number of unique marked elements\n",
    "    uniquemarkednums = dict(oracle.count_ops())[\"ccx\" if k==3 else f\"c{k-1}z\"]\n",
    "\n",
    "    # Append the diffusion operator\n",
    "    groverdiffop = GroverOperator(oracle)\n",
    "\n",
    "    # Determine the optimal number of iterations\n",
    "    optimalnumofiterations = max(1, math.floor(\n",
    "        math.pi / (4 * math.asin(math.sqrt(5 / 2**groverdiffop.num_qubits)))\n",
    "        ))\n",
    "\n",
    "    # Prepare the Quantum Circuit\n",
    "    qc = QuantumCircuit(k)\n",
    "\n",
    "    # Create even superposition of all basis states\n",
    "    qc.h(range(groverdiffop.num_qubits))\n",
    "\n",
    "    # Apply Grover operator the optimal number of times\n",
    "    qc.compose(groverdiffop.power(optimalnumofiterations), inplace=True)\n",
    "\n",
    "    # Measure all qubits\n",
    "    qc.measure_all()\n",
    "\n",
    "    # Draw the final circuit\n",
    "    qc.decompose().draw(output=\"mpl\", style=\"iqp\")\n",
    "\n",
    "    # Simulate the circuit\n",
    "    tqc = transpile(qc, backend)\n",
    "    counts = backend.run(tqc, shots=10000).result().get_counts()\n",
    "\n",
    "    # Selected even numbers\n",
    "    markedeven = sorted(counts, key=counts.get, reverse=True)[:uniquemarkednums]\n",
    "\n",
    "    # Convert to decimal\n",
    "    markedeven = [int(j, 2) for j in markedeven]\n",
    "    # Delete 0 from the list since we have to remain within [1,n)\n",
    "    if 0 in markedeven:\n",
    "        markedeven.remove(0)\n",
    "\n",
    "    # Prepare the even list\n",
    "    evenlist = []\n",
    "    for j in convertedlist:\n",
    "        if j in markedeven:\n",
    "            evenlist.append(j)\n",
    "        elif j+1 in markedeven:\n",
    "            evenlist.append(j+1)\n",
    "        else:\n",
    "            evenlist.append(j-1)\n",
    "\n",
    "    return evenlist"
   ]
  },
  {
   "cell_type": "code",
   "execution_count": 117,
   "id": "76ba8b36-13d2-4570-bf88-3861085d456a",
   "metadata": {},
   "outputs": [
    {
     "name": "stdout",
     "output_type": "stream",
     "text": [
      "[2, 2, 2, 4, 6, 6, 6, 10, 16, 22, 22, 22]\n"
     ]
    }
   ],
   "source": [
    "n = 31\n",
    "convertedlist = [1,2,2,4,5,6,7,11,17,21,22,23]\n",
    "evenlist = oddtoeven(n, convertedlist)\n",
    "print(evenlist)"
   ]
  }
 ],
 "metadata": {
  "kernelspec": {
   "display_name": "Python 3 (ipykernel)",
   "language": "python",
   "name": "python3"
  },
  "language_info": {
   "codemirror_mode": {
    "name": "ipython",
    "version": 3
   },
   "file_extension": ".py",
   "mimetype": "text/x-python",
   "name": "python",
   "nbconvert_exporter": "python",
   "pygments_lexer": "ipython3",
   "version": "3.12.2"
  }
 },
 "nbformat": 4,
 "nbformat_minor": 5
}
